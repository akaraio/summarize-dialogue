{
 "cells": [
  {
   "cell_type": "code",
   "execution_count": null,
   "id": "34318553",
   "metadata": {},
   "outputs": [],
   "source": [
    "import pandas as pd\n",
    "\n",
    "df_train = pd.read_csv('data').dropna()\n",
    "df_validation = pd.read_csv('data').dropna()\n",
    "df_test = pd.read_csv('data').dropna()"
   ]
  },
  {
   "cell_type": "code",
   "execution_count": null,
   "id": "008a8bee",
   "metadata": {},
   "outputs": [],
   "source": [
    "from datasets import Dataset, DatasetDict\n",
    "\n",
    "dataset = DatasetDict(\n",
    "    {'train':Dataset.from_pandas(df_train, preserve_index=False),\n",
    "     'test':Dataset.from_pandas(df_test, preserve_index=False),\n",
    "     'validation': Dataset.from_pandas(df_validation, preserve_index=False)\n",
    "     })\n",
    "\n",
    "dataset"
   ]
  },
  {
   "cell_type": "code",
   "execution_count": null,
   "id": "030221c4",
   "metadata": {},
   "outputs": [],
   "source": [
    "from transformers import AutoTokenizer, AutoModelForSeq2SeqLM\n",
    "\n",
    "tokenizer = AutoTokenizer.from_pretrained(\"data\")\n",
    "model = AutoModelForSeq2SeqLM.from_pretrained(\"data\")"
   ]
  },
  {
   "cell_type": "code",
   "execution_count": null,
   "id": "14121d71",
   "metadata": {},
   "outputs": [],
   "source": [
    "def tokenize(batch):\n",
    "    encoding = tokenizer(batch['dialogue'], text_target=batch['summary'], max_length=200, truncation=True, padding=True, return_tensors='pt')\n",
    "\n",
    "    return encoding"
   ]
  },
  {
   "cell_type": "code",
   "execution_count": null,
   "id": "41ac76bf",
   "metadata": {},
   "outputs": [],
   "source": [
    "samsum_pt = dataset.map(tokenize, batched=True, batch_size=None)"
   ]
  },
  {
   "cell_type": "code",
   "execution_count": null,
   "id": "f441584d",
   "metadata": {},
   "outputs": [],
   "source": [
    "from transformers import DataCollatorForSeq2Seq\n",
    "from transformers import TrainingArguments, Trainer\n",
    "\n",
    "data_collator = DataCollatorForSeq2Seq(tokenizer, model=model) \n",
    "\n",
    "args = TrainingArguments(\n",
    "    output_dir=\"train_dir\",\n",
    "    num_train_epochs=2,\n",
    "    per_device_train_batch_size=4,\n",
    "    per_device_eval_batch_size=4,\n",
    "    eval_strategy='epoch',\n",
    "    save_strategy='epoch',\n",
    "    weight_decay=0.01,\n",
    "    learning_rate=2e-5,\n",
    "    gradient_accumulation_steps=500 \n",
    ")\n",
    "\n",
    "trainer = Trainer(model=model,\n",
    "                  args=args,\n",
    "                  tokenizer=tokenizer,\n",
    "                  data_collator=data_collator,\n",
    "                  train_dataset=samsum_pt['train'],\n",
    "                  eval_dataset=samsum_pt['validation']\n",
    "                  )\n",
    "\n",
    "trainer.train()"
   ]
  },
  {
   "cell_type": "code",
   "execution_count": null,
   "id": "60c93ef6",
   "metadata": {},
   "outputs": [],
   "source": [
    "trainer.save_model(\"data\")"
   ]
  },
  {
   "cell_type": "code",
   "execution_count": null,
   "id": "c48ea2da",
   "metadata": {},
   "outputs": [],
   "source": [
    "from transformers import pipeline\n",
    "\n",
    "pipe = pipeline('summarization', model='data')\n",
    "\n",
    "custom_dialogue=\"\"\"\n",
    "\"\"\"\n",
    "\n",
    "output = pipe(custom_dialogue)\n",
    "output"
   ]
  }
 ],
 "metadata": {
  "kernelspec": {
   "display_name": ".venv",
   "language": "python",
   "name": "python3"
  },
  "language_info": {
   "codemirror_mode": {
    "name": "ipython",
    "version": 3
   },
   "file_extension": ".py",
   "mimetype": "text/x-python",
   "name": "python",
   "nbconvert_exporter": "python",
   "pygments_lexer": "ipython3",
   "version": "3.12.8"
  }
 },
 "nbformat": 4,
 "nbformat_minor": 5
}
